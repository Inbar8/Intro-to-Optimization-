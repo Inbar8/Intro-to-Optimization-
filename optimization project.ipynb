{
 "cells": [
  {
   "cell_type": "code",
   "execution_count": 1,
   "metadata": {},
   "outputs": [],
   "source": [
    "#imports\n",
    "import pandas as pd\n",
    "import numpy as np\n",
    "import gurobipy as gp"
   ]
  },
  {
   "cell_type": "code",
   "execution_count": 2,
   "metadata": {},
   "outputs": [],
   "source": [
    "#teacher evaluation --> 1 - Improvement required (not the sharpest pencil), 10 - Excellent, per subject\n",
    "subject_and_teacher, teacher_evaluation = gp.multidict({\n",
    "    'Bible_Roni': 5,\n",
    "    'Bible_Rachel': 5,\n",
    "    'Literature_Sharon': 6,\n",
    "    'Literature_Liora': 6,\n",
    "    'Math_Yuri': 3,\n",
    "    'Math_Sarit': 3,\n",
    "    'Math_Victor': 3,\n",
    "    'English_Miriam': 7,\n",
    "    'English_Haim': 7,\n",
    "    'Physics_Tzvika': 2,\n",
    "    'Language_Hanita': 4,\n",
    "    'Language_Smadar': 4,\n",
    "    'Geography_Ilana': 1,\n",
    "    'History_Ruth': 3,\n",
    "    'History_Etti': 3,\n",
    "    'Chemistry_Shelly': 7,\n",
    "    'CitizenshipLesson_Tami': 8,\n",
    "    'Economics_Menachem': 5,\n",
    "    'Arabic_Hanita': 9\n",
    "})"
   ]
  },
  {
   "cell_type": "code",
   "execution_count": 3,
   "metadata": {},
   "outputs": [],
   "source": [
    "#subject + avg grade\n",
    "student_avg = gp.multidict({\n",
    "    'Bible_Roni': 70,\n",
    "    'Bible_Rachel': 70,\n",
    "    'Literature_Sharon': 72,\n",
    "    'Literature_Liora': 72,\n",
    "    'Math_Yuri': 53,\n",
    "    'Math_Sarit': 53,\n",
    "    'Math_Victor': 53,\n",
    "    'English_Miriam': 68,\n",
    "    'English_Haim': 68,\n",
    "    'Physics_Tzvika': 41,\n",
    "    'Language_Hanita': 80,\n",
    "    'Language_Smadar': 80,\n",
    "    'Geography_Ilana': 94,\n",
    "    'History_Ruth': 78,\n",
    "    'History_Etti': 78,\n",
    "    'Chemistry_Shelly': 75,\n",
    "    'CitizenshipLesson_Tami': 86,\n",
    "    'Economics_Menachem': 56,\n",
    "    'Arabic_Hanita': 66\n",
    "})[1]"
   ]
  },
  {
   "cell_type": "code",
   "execution_count": 4,
   "metadata": {},
   "outputs": [],
   "source": [
    "teacher_free_time = {\n",
    "    'Sunday': [['Bible_Rachel', 10, 12], ['Literature_Liora', 14, 16]],\n",
    "    'Monday': [['Literature_Sharon', 13, 15], ['Math_Yuri', 12, 14], ['English_Haim', 17, 19]],\n",
    "    'Tuesday': [['Physics_Tzvika', 16, 18], ['Language_Hanita', 14, 16],\n",
    "                ['Economics_Menachem', 14, 16], ['English_Miriam', 10, 12]],\n",
    "    'Wednesday': [['Language_Smadar', 9, 11], ['Geography_Ilana', 13, 15],\n",
    "                  ['History_Ruth', 12, 14], ['CitizenshipLesson_Tami', 15, 17]],\n",
    "    'Thursday': [['Math_Sarit', 9, 11], ['Math_Victor', 17, 19], ['Arabic_Hanita', 18, 20]],\n",
    "    'Friday': [['Bible_Roni', 8, 10], ['History_Etti', 10, 12], ['Chemistry_Shelly', 11, 13]]\n",
    "}"
   ]
  },
  {
   "cell_type": "code",
   "execution_count": 5,
   "metadata": {},
   "outputs": [],
   "source": [
    "student_free_time = {\n",
    "    'Sunday': [14,20],\n",
    "    'Monday': [12,15],\n",
    "    'Tuesday': [16,19],\n",
    "    'Wednesday': [12,17],\n",
    "    'Thursday': [17,20],\n",
    "    'Friday': [8,13]\n",
    "}"
   ]
  },
  {
   "cell_type": "code",
   "execution_count": 6,
   "metadata": {},
   "outputs": [],
   "source": [
    "#find the subjects which their time collides while checking the days and houres\n",
    "#teacher_free_time is when the classes occurs\n",
    "def get_collisions(teacher_free_time):\n",
    "    collisions = []\n",
    "    for subjects_per_day in teacher_free_time.values():\n",
    "        # subjects_per_day is a list of all the subjects in each day\n",
    "        if len(subjects_per_day) == 1:\n",
    "            continue  # there are no possible collisions because there is only one subject a day.\n",
    "\n",
    "        # in case there is more than one subjects per day, check if the class times collides by comparing start and end times.\n",
    "        for i, course in enumerate(subjects_per_day):\n",
    "            if i == len(subjects_per_day) - 1:\n",
    "                continue  # all collisions were already specified before\n",
    "            for other_course in subjects_per_day[i + 1:]:\n",
    "                start_time_current = course[1]\n",
    "                end_time_current = course[2]\n",
    "                start_time_other = other_course[1]\n",
    "                course_name = course[0]\n",
    "                other_course_name = other_course[0]\n",
    "                if (start_time_other < end_time_current) or (start_time_other == start_time_current):\n",
    "                    collisions.append((course_name, other_course_name))\n",
    "\n",
    "    return collisions\n",
    "\n",
    "collisions = get_collisions(teacher_free_time)"
   ]
  },
  {
   "cell_type": "code",
   "execution_count": 7,
   "metadata": {},
   "outputs": [
    {
     "name": "stdout",
     "output_type": "stream",
     "text": [
      "[('Literature_Sharon', 'Math_Yuri'), ('Physics_Tzvika', 'Language_Hanita'), ('Physics_Tzvika', 'Economics_Menachem'), ('Physics_Tzvika', 'English_Miriam'), ('Language_Hanita', 'Economics_Menachem'), ('Language_Hanita', 'English_Miriam'), ('Economics_Menachem', 'English_Miriam'), ('Geography_Ilana', 'History_Ruth'), ('Math_Victor', 'Arabic_Hanita'), ('History_Etti', 'Chemistry_Shelly')]\n"
     ]
    }
   ],
   "source": [
    "print(collisions)"
   ]
  },
  {
   "cell_type": "code",
   "execution_count": 8,
   "metadata": {},
   "outputs": [],
   "source": [
    "#find the subjects which their time does not match with the student schedule\n",
    "def get_inopportune_classes(teacher_free_time, student_free_time):\n",
    "    #a list to hold all the classes that not fit with the student schedule\n",
    "    inopportune_classes = []\n",
    "    #loop over the two dictinaries at once\n",
    "    for (student_day, s_free_time), (day, day_subjects) in zip(student_free_time.items(), teacher_free_time.items()):\n",
    "        day_length = student_free_time[student_day]     \n",
    "        for subject in day_subjects:\n",
    "            start = subject[1]\n",
    "            end = subject[2]\n",
    "            if start < day_length[0] or end > day_length[1]:\n",
    "                inopportune_classes.append(subject[0])\n",
    "\n",
    "    return inopportune_classes\n",
    "\n",
    "inopportune_classes = get_inopportune_classes(teacher_free_time, student_free_time)"
   ]
  },
  {
   "cell_type": "code",
   "execution_count": 9,
   "metadata": {},
   "outputs": [
    {
     "name": "stdout",
     "output_type": "stream",
     "text": [
      "['Bible_Rachel', 'English_Haim', 'Language_Hanita', 'Economics_Menachem', 'English_Miriam', 'Language_Smadar', 'Math_Sarit']\n"
     ]
    }
   ],
   "source": [
    "print(inopportune_classes)"
   ]
  },
  {
   "cell_type": "code",
   "execution_count": 10,
   "metadata": {},
   "outputs": [],
   "source": [
    "#some subjects are the same with different teachers (like bible, math..)\n",
    "#we want the student to be able to enroll to a subject only once (and ont once per teacher).\n",
    "def get_same_classes(teacher_free_time):\n",
    "    same_subjects = {}\n",
    "    for day in teacher_free_time.values():\n",
    "        #for example: subject --> ['Bible_Rachel', 10, 12]\n",
    "        for subject in day:\n",
    "            #subject[0] --> Bible_Rachel\n",
    "            split_sub_and_teacher = subject[0].split(\"_\")\n",
    "            #split_sub_and_teacher --> Bible,Rachel\n",
    "            if split_sub_and_teacher[0] in same_subjects:\n",
    "                same_subjects[split_sub_and_teacher[0]].append(subject)\n",
    "            else:\n",
    "                same_subjects[split_sub_and_teacher[0]] = [subject]\n",
    "    return same_subjects\n",
    "\n",
    "same_subjects = get_same_classes(teacher_free_time)"
   ]
  },
  {
   "cell_type": "code",
   "execution_count": 11,
   "metadata": {},
   "outputs": [
    {
     "name": "stdout",
     "output_type": "stream",
     "text": [
      "{'Bible': [['Bible_Rachel', 10, 12], ['Bible_Roni', 8, 10]], 'Literature': [['Literature_Liora', 14, 16], ['Literature_Sharon', 13, 15]], 'Math': [['Math_Yuri', 12, 14], ['Math_Sarit', 9, 11], ['Math_Victor', 17, 19]], 'English': [['English_Haim', 17, 19], ['English_Miriam', 10, 12]], 'Physics': [['Physics_Tzvika', 16, 18]], 'Language': [['Language_Hanita', 14, 16], ['Language_Smadar', 9, 11]], 'Economics': [['Economics_Menachem', 14, 16]], 'Geography': [['Geography_Ilana', 13, 15]], 'History': [['History_Ruth', 12, 14], ['History_Etti', 10, 12]], 'CitizenshipLesson': [['CitizenshipLesson_Tami', 15, 17]], 'Arabic': [['Arabic_Hanita', 18, 20]], 'Chemistry': [['Chemistry_Shelly', 11, 13]]}\n"
     ]
    }
   ],
   "source": [
    "print(same_subjects)"
   ]
  },
  {
   "cell_type": "code",
   "execution_count": 12,
   "metadata": {},
   "outputs": [
    {
     "name": "stdout",
     "output_type": "stream",
     "text": [
      "{'Bible_Roni': 5, 'Bible_Rachel': 5, 'Literature_Sharon': 4, 'Literature_Liora': 4, 'Math_Yuri': 7, 'Math_Sarit': 7, 'Math_Victor': 7, 'English_Miriam': 3, 'English_Haim': 3, 'Physics_Tzvika': 8, 'Language_Hanita': 6, 'Language_Smadar': 6, 'Geography_Ilana': 9, 'History_Ruth': 7, 'History_Etti': 7, 'Chemistry_Shelly': 3, 'CitizenshipLesson_Tami': 2, 'Economics_Menachem': 5, 'Arabic_Hanita': 1}\n",
      "{'Bible_Roni': 30, 'Bible_Rachel': 30, 'Literature_Sharon': 28, 'Literature_Liora': 28, 'Math_Yuri': 47, 'Math_Sarit': 47, 'Math_Victor': 47, 'English_Miriam': 32, 'English_Haim': 32, 'Physics_Tzvika': 59, 'Language_Hanita': 20, 'Language_Smadar': 20, 'Geography_Ilana': 6, 'History_Ruth': 22, 'History_Etti': 22, 'Chemistry_Shelly': 25, 'CitizenshipLesson_Tami': 14, 'Economics_Menachem': 44, 'Arabic_Hanita': 34}\n"
     ]
    }
   ],
   "source": [
    "# change the vars to match with our goals - min grades and min evaluation\n",
    "def adjust_the_vars(teacher_evaluation, student_avg, max_eva, max_avg):\n",
    "    \n",
    "    for i in teacher_evaluation:\n",
    "         teacher_evaluation[i] = max_eva - teacher_evaluation[i]\n",
    "    for j in student_avg:\n",
    "        student_avg[j] = max_avg - student_avg[j]\n",
    "    \n",
    "    print(teacher_evaluation)\n",
    "    print(student_avg)\n",
    "\n",
    "adjust_the_vars(teacher_evaluation, student_avg, 10, 100)"
   ]
  },
  {
   "cell_type": "code",
   "execution_count": 13,
   "metadata": {},
   "outputs": [
    {
     "name": "stdout",
     "output_type": "stream",
     "text": [
      "Restricted license - for non-production use only - expires 2022-01-13\n"
     ]
    }
   ],
   "source": [
    "import time\n",
    "import datetime\n",
    "start = time.time()\n",
    "start = datetime.datetime.now()\n",
    "\n",
    "# Creating the model\n",
    "model = gp.Model(\"Partani\")\n",
    "\n",
    "# Create decision variables for the subjects the student should take as 'partani' houres.\n",
    "subjects_to_assign = model.addVars(subject_and_teacher, name=\"Subjects+Teachers\", vtype=gp.GRB.BINARY)"
   ]
  },
  {
   "cell_type": "code",
   "execution_count": 14,
   "metadata": {},
   "outputs": [],
   "source": [
    "# objective\n",
    "# The objective is to maximize (take as many subjects with the lowest grades and teacher evaluation)\n",
    "\n",
    "model.ModelSense = gp.GRB.MAXIMIZE\n",
    "\n",
    "evaluation_objective = subjects_to_assign.prod(teacher_evaluation)\n",
    "evaluation_priority = 1\n",
    "evaluation_weight = 0.5\n",
    "\n",
    "student_avg_objective = subjects_to_assign.prod(student_avg)/10\n",
    "student_avg_priority = 0\n",
    "student_avg_weight = 1\n",
    "\n",
    "model.setObjectiveN(evaluation_objective, evaluation_priority, weight=evaluation_weight)\n",
    "model.setObjectiveN(student_avg_objective, student_avg_priority, weight=student_avg_weight)"
   ]
  },
  {
   "cell_type": "code",
   "execution_count": 15,
   "metadata": {},
   "outputs": [],
   "source": [
    "def add_constrains_to_model(subjects_to_assign, collisions, inopportune_classes, same_subjects):\n",
    "\n",
    "    for course1, course2 in collisions:\n",
    "        model.addConstr(subjects_to_assign.sum(course1) + subjects_to_assign.sum(course2) <= 1)\n",
    "\n",
    "    for course in inopportune_classes:\n",
    "        model.addConstr(subjects_to_assign.sum(course) == 0)\n",
    "\n",
    "    for course in same_subjects.values():\n",
    "        courses_sum = 0\n",
    "        for course_time in course:\n",
    "            courses_sum += subjects_to_assign.sum(course_time)\n",
    "        model.addConstr(courses_sum <= 1)"
   ]
  },
  {
   "cell_type": "code",
   "execution_count": 16,
   "metadata": {},
   "outputs": [
    {
     "name": "stdout",
     "output_type": "stream",
     "text": [
      "Gurobi Optimizer version 9.1.1 build v9.1.1rc0 (win64)\n",
      "Thread count: 2 physical cores, 4 logical processors, using up to 4 threads\n",
      "Optimize a model with 29 rows, 19 columns and 46 nonzeros\n",
      "Model fingerprint: 0x131dea92\n",
      "Variable types: 0 continuous, 19 integer (19 binary)\n",
      "Coefficient statistics:\n",
      "  Matrix range     [1e+00, 1e+00]\n",
      "  Objective range  [6e-01, 9e+00]\n",
      "  Bounds range     [1e+00, 1e+00]\n",
      "  RHS range        [1e+00, 1e+00]\n",
      "\n",
      "---------------------------------------------------------------------------\n",
      "Multi-objectives: starting optimization with 2 objectives (1 combined) ...\n",
      "---------------------------------------------------------------------------\n",
      "---------------------------------------------------------------------------\n",
      "\n",
      "Multi-objectives: optimize objective 1 (weighted) ...\n",
      "---------------------------------------------------------------------------\n",
      "\n",
      "Optimize a model with 29 rows, 19 columns and 46 nonzeros\n",
      "Variable types: 0 continuous, 19 integer (19 binary)\n",
      "Coefficient statistics:\n",
      "  Matrix range     [1e+00, 1e+00]\n",
      "  Objective range  [2e+00, 1e+01]\n",
      "  Bounds range     [1e+00, 1e+00]\n",
      "  RHS range        [1e+00, 1e+00]\n",
      "Found heuristic solution: objective 41.6000000\n",
      "Presolve removed 29 rows and 19 columns\n",
      "Presolve time: 0.00s\n",
      "Presolve: All rows and columns removed\n",
      "\n",
      "Explored 0 nodes (0 simplex iterations) in 0.06 seconds\n",
      "Thread count was 1 (of 4 available processors)\n",
      "\n",
      "Solution count 2: 45.5 \n",
      "\n",
      "Optimal solution found (tolerance 1.00e-04)\n",
      "Best objective 4.550000000000e+01, best bound 4.550000000000e+01, gap 0.0000%\n",
      "\n",
      "---------------------------------------------------------------------------\n",
      "Multi-objectives: solved in 0.07 seconds, solution count 2\n",
      "\n",
      "0:00:00.392774\n"
     ]
    }
   ],
   "source": [
    "def optimize(subjects_to_assign, collisions, inopportune_classes, same_subjects):\n",
    "    add_constrains_to_model(subjects_to_assign, collisions, inopportune_classes, same_subjects)\n",
    "    model.optimize()\n",
    "    end = time.time()\n",
    "    end = datetime.datetime.now()\n",
    "    print(end - start)\n",
    "    \n",
    "optimize(subjects_to_assign, collisions, inopportune_classes, same_subjects)"
   ]
  },
  {
   "cell_type": "code",
   "execution_count": 17,
   "metadata": {
    "scrolled": true
   },
   "outputs": [
    {
     "name": "stdout",
     "output_type": "stream",
     "text": [
      ": Sunday\n",
      "Literature_Liora [14, 16]\n",
      "_______________________________\n",
      ": Monday\n",
      "Math_Yuri [12, 14]\n",
      "_______________________________\n",
      ": Tuesday\n",
      "Physics_Tzvika [16, 18]\n",
      "_______________________________\n",
      ": Wednesday\n",
      "Geography_Ilana [13, 15]\n",
      "CitizenshipLesson_Tami [15, 17]\n",
      "_______________________________\n",
      ": Thursday\n",
      "Arabic_Hanita [18, 20]\n",
      "_______________________________\n",
      ": Friday\n",
      "Bible_Roni [8, 10]\n",
      "History_Etti [10, 12]\n",
      "_______________________________\n"
     ]
    }
   ],
   "source": [
    "def schedule_partani(teacher_free_time, teacher_evaluation):\n",
    "    teacher_eval_min_score = 0\n",
    "    for day, data in teacher_free_time.items():\n",
    "        print(':',day)\n",
    "        for subj in data:\n",
    "            for v in model.getVars():\n",
    "                split_teacher = v.varName.split(\"[\")\n",
    "                split_again = split_teacher[1].split(\"]\")\n",
    "                if subj[0] == split_again[0]:\n",
    "                    if v.x ==1:\n",
    "                        print('%s' % (split_again[0]),subj[1:])\n",
    "                        teacher_eval_min_score+= (10-teacher_evaluation[split_again[0]])\n",
    "        print(\"_______________________________\")\n",
    "    return teacher_eval_min_score\n",
    "\n",
    "min_evaluation = schedule_partani(teacher_free_time, teacher_evaluation)"
   ]
  },
  {
   "cell_type": "code",
   "execution_count": 18,
   "metadata": {},
   "outputs": [
    {
     "name": "stdout",
     "output_type": "stream",
     "text": [
      "The minimum Teacher Evaluation Score is: 37 Out of 120\n"
     ]
    }
   ],
   "source": [
    "print(\"The minimum Teacher Evaluation Score is:\", min_evaluation, \"Out of 120\")"
   ]
  }
 ],
 "metadata": {
  "kernelspec": {
   "display_name": "Python 3",
   "language": "python",
   "name": "python3"
  },
  "language_info": {
   "codemirror_mode": {
    "name": "ipython",
    "version": 3
   },
   "file_extension": ".py",
   "mimetype": "text/x-python",
   "name": "python",
   "nbconvert_exporter": "python",
   "pygments_lexer": "ipython3",
   "version": "3.7.6"
  }
 },
 "nbformat": 4,
 "nbformat_minor": 4
}
