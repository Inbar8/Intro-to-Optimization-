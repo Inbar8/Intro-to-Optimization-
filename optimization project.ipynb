{
 "cells": [
  {
   "cell_type": "code",
   "execution_count": null,
   "metadata": {},
   "outputs": [],
   "source": [
    "#imports\n",
    "import pandas as pd\n",
    "import numpy as np\n",
    "import gurobipy as gp\n",
    "#from mip import *"
   ]
  },
  {
   "cell_type": "code",
   "execution_count": null,
   "metadata": {},
   "outputs": [],
   "source": [
    "#teacher evaluation --> 1 - Improvement required (not the sharpest pencil), 10 - Excellent, per subject\n",
    "subject_and_teacher, teacher_evaluation = gp.multidict({\n",
    "    'Bible_Roni': 5,\n",
    "    'Bible_Rachel': 5,\n",
    "    'Literature_Sharon': 6,\n",
    "    'Literature_Liora': 6,\n",
    "    'Math_Yuri': 3,\n",
    "    'Math_Sarit': 3,\n",
    "    'Math_Victor': 3,\n",
    "    'English_Miriam': 7,\n",
    "    'English_Haim': 7,\n",
    "    'Physics_Tzvika': 2,\n",
    "    'Language_Hanita': 4,\n",
    "    'Language_Smadar': 4,\n",
    "    'Geography_Ilana': 10,\n",
    "    'History_Ruth': 6,\n",
    "    'History_Etti': 6,\n",
    "    'Chemistry_Shelly': 7,\n",
    "    'CitizenshipLesson_Tami': 8,\n",
    "    'Economics_Menachem': 5,\n",
    "    'Arabic_Hanita': 9\n",
    "})"
   ]
  },
  {
   "cell_type": "code",
   "execution_count": null,
   "metadata": {},
   "outputs": [],
   "source": [
    "#subject + avg grade\n",
    "student_avg = gp.multidict({\n",
    "    'Bible_Roni': 70,\n",
    "    'Bible_Rachel': 70,\n",
    "    'Literature_Sharon': 72,\n",
    "    'Literature_Liora': 72,\n",
    "    'Math_Yuri': 53,\n",
    "    'Math_Sarit': 53,\n",
    "    'Math_Victor': 53,\n",
    "    'English_Miriam': 68,\n",
    "    'English_Haim': 68,\n",
    "    'Physics_Tzvika': 41,\n",
    "    'Language_Hanita': 80,\n",
    "    'Language_Smadar': 80,\n",
    "    'Geography_Ilana': 94,\n",
    "    'History_Ruth': 78,\n",
    "    'History_Etti': 78,\n",
    "    'Chemistry_Shelly': 75,\n",
    "    'CitizenshipLesson_Tami': 86,\n",
    "    'Economics_Menachem': 56,\n",
    "    'Arabic_Hanita': 66\n",
    "})[1]"
   ]
  },
  {
   "cell_type": "code",
   "execution_count": null,
   "metadata": {},
   "outputs": [],
   "source": [
    "teacher_free_time = {\n",
    "    'Sunday': [['Bible_Rachel', 10, 12], ['Literature_Liora', 14, 16]],\n",
    "    'Monday': [['Literature_Sharon', 13, 15], ['Math_Yuri', 12, 14], ['English_Haim', 17, 19]],\n",
    "    'Tuesday': [['Physics_Tzvika', 16, 18], ['Language_Hanita', 14, 16],\n",
    "                ['Economics_Menachem', 14, 16], ['English_Miriam', 10, 12]],\n",
    "    'Wednesday': [['Language_Smadar', 9, 11], ['Geography_Ilana', 13, 15],\n",
    "                  ['History_Ruth', 12, 14], ['CitizenshipLesson_Tami', 15, 17]],\n",
    "    'Thursday': [['Math_Sarit', 9, 11], ['Math_Victor', 17, 19], ['Arabic_Hanita', 18, 20]],\n",
    "    'Friday': [['Bible_Roni', 8, 10], ['History_Etti', 10, 12], ['Chemistry_Shelly', 11, 13]]\n",
    "}"
   ]
  },
  {
   "cell_type": "code",
   "execution_count": null,
   "metadata": {},
   "outputs": [],
   "source": [
    "student_free_time = {\n",
    "    'Sunday': [14,20],\n",
    "    'Monday': [12,15],\n",
    "    'Tuesday': [16,19],\n",
    "    'Wednesday': [12,17],\n",
    "    'Thursday': [17,20],\n",
    "    'Friday': [8,13]\n",
    "}"
   ]
  },
  {
   "cell_type": "code",
   "execution_count": null,
   "metadata": {},
   "outputs": [],
   "source": [
    "#find the subjects which their time collides while checking the days and houres\n",
    "#teacher_free_time is when the classes occurs\n",
    "def get_collisions(teacher_free_time):\n",
    "    collisions = []\n",
    "    for subjects_per_day in teacher_free_time.values():\n",
    "        # subjects_per_day is a list of all the subjects in each day\n",
    "        if len(subjects_per_day) == 1:\n",
    "            continue  # there are no possible collisions because there is only one subject a day.\n",
    "\n",
    "        # in case there is more than one subjects per day, check if the class times collides by comparing start and end times.\n",
    "        for i, course in enumerate(subjects_per_day):\n",
    "            if i == len(subjects_per_day) - 1:\n",
    "                continue  # all collisions were already specified before\n",
    "            for other_course in subjects_per_day[i + 1:]:\n",
    "                start_time_current = course[1]\n",
    "                end_time_current = course[2]\n",
    "                start_time_other = other_course[1]\n",
    "                course_name = course[0]\n",
    "                other_course_name = other_course[0]\n",
    "                if (start_time_other < end_time_current) or (start_time_other == start_time_current):\n",
    "                    collisions.append((course_name, other_course_name))\n",
    "\n",
    "    return collisions\n",
    "\n",
    "collisions = get_collisions(teacher_free_time)"
   ]
  },
  {
   "cell_type": "code",
   "execution_count": null,
   "metadata": {},
   "outputs": [],
   "source": [
    "print(collisions)"
   ]
  },
  {
   "cell_type": "code",
   "execution_count": null,
   "metadata": {},
   "outputs": [],
   "source": [
    "#find the subjects which their time does not match with the student schedule\n",
    "def get_inopportune_classes(teacher_free_time, student_free_time):\n",
    "    #a list to hold all the classes that not fit with the student schedule\n",
    "    inopportune_classes = []\n",
    "    #loop over the two dictinaries at once\n",
    "    for (student_day, s_free_time), (day, day_subjects) in zip(student_free_time.items(), teacher_free_time.items()):\n",
    "        day_length = student_free_time[student_day]     \n",
    "        for subject in day_subjects:\n",
    "            start = subject[1]\n",
    "            end = subject[2]\n",
    "            if start < day_length[0] or end > day_length[1]:\n",
    "                inopportune_classes.append(subject[0])\n",
    "\n",
    "    return inopportune_classes\n",
    "\n",
    "inopportune_classes = get_inopportune_classes(teacher_free_time, student_free_time)"
   ]
  },
  {
   "cell_type": "code",
   "execution_count": null,
   "metadata": {},
   "outputs": [],
   "source": [
    "print(inopportune_classes)"
   ]
  },
  {
   "cell_type": "code",
   "execution_count": null,
   "metadata": {},
   "outputs": [],
   "source": [
    "#some subjects are the same with different teachers (like bible, math..)\n",
    "#we want the student to be able to enroll to a subject only once (and ont once per teacher).\n",
    "def get_same_classes(teacher_free_time):\n",
    "    same_subjects = {}\n",
    "    for day in teacher_free_time.values():\n",
    "        #for example: subject --> ['Bible_Rachel', 10, 12]\n",
    "        for subject in day:\n",
    "            #subject[0] --> Bible_Rachel\n",
    "            split_sub_and_teacher = subject[0].split(\"_\")\n",
    "            #split_sub_and_teacher --> Bible,Rachel\n",
    "            if split_sub_and_teacher[0] in same_subjects:\n",
    "                same_subjects[split_sub_and_teacher[0]].append(subject)\n",
    "            else:\n",
    "                same_subjects[split_sub_and_teacher[0]] = [subject]\n",
    "    return same_subjects\n",
    "\n",
    "same_subjects = get_same_classes(teacher_free_time)"
   ]
  },
  {
   "cell_type": "code",
   "execution_count": null,
   "metadata": {},
   "outputs": [],
   "source": [
    "print(same_subjects)"
   ]
  },
  {
   "cell_type": "code",
   "execution_count": null,
   "metadata": {},
   "outputs": [],
   "source": [
    "import time\n",
    "import datetime\n",
    "start = time.time()\n",
    "start = datetime.datetime.now()\n",
    "\n",
    "# Creating the model\n",
    "model = gp.Model(\"Partani\")\n",
    "\n",
    "# Create decision variables for the subjects the student should take as 'partani' houres.\n",
    "subjects_to_assign = model.addVars(subject_and_teacher, name=\"Subjects+Teachers\", vtype=gp.GRB.BINARY)"
   ]
  },
  {
   "cell_type": "code",
   "execution_count": null,
   "metadata": {},
   "outputs": [],
   "source": [
    "# objective\n",
    "# The objective is to minimize (lowest grades and min teacher evaluation)\n",
    "\n",
    "model.ModelSense = gp.GRB.MINIMIZE\n",
    "\n",
    "evaluation_objective = subjects_to_assign.prod(teacher_evaluation)\n",
    "evaluation_priority = 0\n",
    "evaluation_weight = 2\n",
    "\n",
    "student_avg_objective = subjects_to_assign.prod(student_avg)\n",
    "student_avg_priority = 0\n",
    "student_avg_weight = 1\n",
    "\n",
    "model.setObjectiveN(evaluation_objective, evaluation_priority, weight=evaluation_weight)\n",
    "model.setObjectiveN(student_avg_objective, student_avg_priority, weight=student_avg_weight)"
   ]
  },
  {
   "cell_type": "code",
   "execution_count": null,
   "metadata": {},
   "outputs": [],
   "source": [
    "def optimize(subjects_to_assign, same_subjects, inopportune_classes, collisions):\n",
    "\n",
    "    for course1, course2 in collisions:\n",
    "        model.addConstr(subjects_to_assign.sum(course1) + subjects_to_assign.sum(course2) <= 1)\n",
    "\n",
    "    for course in inopportune_classes:\n",
    "        model.addConstr(subjects_to_assign.sum(course) == 0)\n",
    "\n",
    "    for course in same_subjects.values():\n",
    "        courses_sum = 0\n",
    "        for course_time in course:\n",
    "            courses_sum += subjects_to_assign.sum(course_time)\n",
    "        model.addConstr(courses_sum <= 1)\n",
    "\n",
    "    model.optimize()\n",
    "\n",
    "    for v in model.getVars():\n",
    "        print('%s %g' % (v.varName, v.x))\n",
    "\n",
    "    print('Obj: %g' % model.objVal)\n",
    "    end = time.time()\n",
    "    end = datetime.datetime.now()\n",
    "    print(end - start)\n",
    "    \n",
    "optimize(subjects_to_assign, same_subjects, inopportune_classes, collisions)"
   ]
  }
 ],
 "metadata": {
  "kernelspec": {
   "display_name": "Python 3",
   "language": "python",
   "name": "python3"
  },
  "language_info": {
   "codemirror_mode": {
    "name": "ipython",
    "version": 3
   },
   "file_extension": ".py",
   "mimetype": "text/x-python",
   "name": "python",
   "nbconvert_exporter": "python",
   "pygments_lexer": "ipython3",
   "version": "3.7.6"
  }
 },
 "nbformat": 4,
 "nbformat_minor": 4
}
