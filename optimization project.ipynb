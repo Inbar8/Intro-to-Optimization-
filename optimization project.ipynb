{
 "cells": [
  {
   "cell_type": "code",
   "execution_count": 1,
   "metadata": {},
   "outputs": [
    {
     "data": {
      "text/plain": [
       "\"\\nfrom pandas import *\\nxls = ExcelFile('path_to_file.xls')\\ndf = xls.parse(xls.sheet_names[0])\\nprint df.to_dict()\\n\\n\""
      ]
     },
     "execution_count": 1,
     "metadata": {},
     "output_type": "execute_result"
    }
   ],
   "source": [
    "'''\n",
    "from pandas import *\n",
    "xls = ExcelFile('path_to_file.xls')\n",
    "df = xls.parse(xls.sheet_names[0])\n",
    "print df.to_dict()\n",
    "\n",
    "'''"
   ]
  },
  {
   "cell_type": "code",
   "execution_count": 2,
   "metadata": {},
   "outputs": [],
   "source": [
    "#imports\n",
    "import pandas as pd\n",
    "import numpy as np\n",
    "#from mip import *\n",
    "import gurobipy as gp"
   ]
  },
  {
   "cell_type": "code",
   "execution_count": 3,
   "metadata": {},
   "outputs": [],
   "source": [
    "#max attendance at classes= 45\n",
    "subject_and_teacher, attendance_at_class = gp.multidict({\n",
    "    'Bible_Roni': 33,\n",
    "    'Bible_Rachel': 33,\n",
    "    'Literature_Sharon': 20,\n",
    "    'Literature_Liora': 20,\n",
    "    'Math_Yuri': 38,\n",
    "    'Math_Sarit': 38,\n",
    "    'Math_Victor': 38,\n",
    "    'English_Miriam': 22,\n",
    "    'English_Haim': 22,\n",
    "    'Physics_Tzvika': 10,\n",
    "    'Language_Hanita': 12,\n",
    "    'Language_Smadar': 12,\n",
    "    'Geography_Ilana': 40,\n",
    "    'History_Ruth': 31,\n",
    "    'History_Etti': 31,\n",
    "    'Chemistry_Shelly': 40,\n",
    "    'CitizenshipLesson_Tami': 18,\n",
    "    'Economics_Menachem': 44,\n",
    "    'Arabic_Hanita': 9\n",
    "})"
   ]
  },
  {
   "cell_type": "code",
   "execution_count": 4,
   "metadata": {},
   "outputs": [],
   "source": [
    "# class + avg grade\n",
    "student_avg = gp.multidict({\n",
    "    'Bible_Roni': 70,\n",
    "    'Bible_Rachel': 70,\n",
    "    'Literature_Sharon': 72,\n",
    "    'Literature_Liora': 72,\n",
    "    'Math_Yuri': 53,\n",
    "    'Math_Sarit': 53,\n",
    "    'Math_Victor': 53,\n",
    "    'English_Miriam': 68,\n",
    "    'English_Haim': 68,\n",
    "    'Physics_Tzvika': 41,\n",
    "    'Language_Hanita': 80,\n",
    "    'Language_Smadar': 80,\n",
    "    'Geography_Ilana': 94,\n",
    "    'History_Ruth': 78,\n",
    "    'History_Etti': 78,\n",
    "    'Chemistry_Shelly': 75,\n",
    "    'CitizenshipLesson_Tami': 86,\n",
    "    'Economics_Menachem': 56,\n",
    "    'Arabic_Hanita': 66\n",
    "})[1]"
   ]
  },
  {
   "cell_type": "code",
   "execution_count": 5,
   "metadata": {},
   "outputs": [],
   "source": [
    "teacher_free_time = {\n",
    "    'Sunday': [['Bible_Rachel', 10, 12], ['Literature_Liora', 14, 16]],\n",
    "    'Monday': [['Literature_Sharon', 13, 15], ['Math_Yuri', 12, 14], ['English_Haim', 17, 19]],\n",
    "    'Tuesday': [['Physics_Tzvika', 16, 18], ['Language_Hanita', 14, 16],\n",
    "                ['Economics_Menachem', 14, 16], ['English_Miriam', 10, 12]],\n",
    "    'Wednesday': [['Language_Smadar', 9, 11], ['Geography_Ilana', 13, 15],\n",
    "                  ['History_Ruth', 12, 14], ['CitizenshipLesson_Tami', 15, 17]],\n",
    "    'Thursday': [['Math_Sarit', 9, 11], ['Math_Victor', 17, 19], ['Arabic_Hanita', 18, 20]],\n",
    "    'Friday': [['Bible_Roni', 8, 10], ['History_Etti', 10, 12], ['Chemistry_Shelly', 11, 13]]\n",
    "}"
   ]
  },
  {
   "cell_type": "code",
   "execution_count": 6,
   "metadata": {},
   "outputs": [],
   "source": [
    "student_free_time = {\n",
    "    'Sunday': [14,20],\n",
    "    'Monday': [12,15],\n",
    "    'Tuesday': [16,19],\n",
    "    'Wednesday': [12,17],\n",
    "    'Thursday': [17,20],\n",
    "    'Friday': [8,13]\n",
    "}"
   ]
  },
  {
   "cell_type": "code",
   "execution_count": 7,
   "metadata": {},
   "outputs": [],
   "source": [
    "def get_collisions(course_times):\n",
    "    # Understand which courses collide\n",
    "    collisions = []\n",
    "    for day_courses in course_times.values():\n",
    "        # day_courses is a list of all courses in a specific day\n",
    "        if len(day_courses) == 1:\n",
    "            continue  # no possible collisions\n",
    "\n",
    "        # Compare current course with all courses after it\n",
    "        for i, course in enumerate(day_courses):\n",
    "            if i == len(day_courses) - 1:\n",
    "                continue  # all collisions were already specified before\n",
    "            for other_course in day_courses[i + 1:]:\n",
    "                start_time_current = course[1]\n",
    "                end_time_current = course[2]\n",
    "                start_time_other = other_course[1]\n",
    "                course_name = course[0]\n",
    "                other_course_name = other_course[0]\n",
    "                if (start_time_other < end_time_current) or (start_time_other == start_time_current):\n",
    "                    collisions.append((course_name, other_course_name))\n",
    "\n",
    "    return collisions\n",
    "\n",
    "collisions = get_collisions(teacher_free_time)"
   ]
  },
  {
   "cell_type": "code",
   "execution_count": 8,
   "metadata": {},
   "outputs": [
    {
     "name": "stdout",
     "output_type": "stream",
     "text": [
      "[('Literature_Sharon', 'Math_Yuri'), ('Physics_Tzvika', 'Language_Hanita'), ('Physics_Tzvika', 'Economics_Menachem'), ('Physics_Tzvika', 'English_Miriam'), ('Language_Hanita', 'Economics_Menachem'), ('Language_Hanita', 'English_Miriam'), ('Economics_Menachem', 'English_Miriam'), ('Geography_Ilana', 'History_Ruth'), ('Math_Victor', 'Arabic_Hanita'), ('History_Etti', 'Chemistry_Shelly')]\n"
     ]
    }
   ],
   "source": [
    "print(collisions)"
   ]
  },
  {
   "cell_type": "code",
   "execution_count": 9,
   "metadata": {},
   "outputs": [],
   "source": [
    "def get_bad_classes(teacher_free_time, student_free_time):\n",
    "\n",
    "    bad_classes = []\n",
    "\n",
    "    for (student_day, s_free_time), (day, day_subjects) in zip(student_free_time.items(), teacher_free_time.items()):\n",
    "    #for student_day, s_free_time in student_free_time.items(): \n",
    "        day_length = student_free_time[student_day]     \n",
    "        \n",
    "        #for day, day_subjects in teacher_free_time.items():\n",
    "\n",
    "        for subject in day_subjects:\n",
    "            start = subject[1]\n",
    "            end = subject[2]\n",
    "            if start < day_length[0] or end > day_length[1]:\n",
    "                bad_classes.append(subject[0])\n",
    "\n",
    "    return bad_classes\n",
    "\n",
    "\n",
    "bad_classes = get_bad_classes(teacher_free_time, student_free_time)"
   ]
  },
  {
   "cell_type": "code",
   "execution_count": 10,
   "metadata": {},
   "outputs": [
    {
     "name": "stdout",
     "output_type": "stream",
     "text": [
      "['Bible_Rachel', 'English_Haim', 'Language_Hanita', 'Economics_Menachem', 'English_Miriam', 'Language_Smadar', 'Math_Sarit']\n"
     ]
    }
   ],
   "source": [
    "print(bad_classes)"
   ]
  },
  {
   "cell_type": "code",
   "execution_count": 11,
   "metadata": {},
   "outputs": [],
   "source": [
    "def get_same_classes(teacher_free_time):\n",
    "    same_subjects = {}\n",
    "    #subject --> ['Bible_Rachel', 10, 12]\n",
    "    for day in teacher_free_time.values():\n",
    "        for subject in day:\n",
    "            #subject[0] --> Bible_Rachel\n",
    "            split_sub_and_teacher = subject[0].split(\"_\")\n",
    "            #split_course_name --> Bible,Rachel\n",
    "            if split_sub_and_teacher[0] in same_subjects:\n",
    "                same_subjects[split_sub_and_teacher[0]].append(subject)\n",
    "            else:\n",
    "                same_subjects[split_sub_and_teacher[0]] = [subject]\n",
    "    return same_subjects\n",
    "\n",
    "same_subjects = get_same_classes(teacher_free_time)"
   ]
  },
  {
   "cell_type": "code",
   "execution_count": 12,
   "metadata": {},
   "outputs": [
    {
     "name": "stdout",
     "output_type": "stream",
     "text": [
      "{'Bible': [['Bible_Rachel', 10, 12], ['Bible_Roni', 8, 10]], 'Literature': [['Literature_Liora', 14, 16], ['Literature_Sharon', 13, 15]], 'Math': [['Math_Yuri', 12, 14], ['Math_Sarit', 9, 11], ['Math_Victor', 17, 19]], 'English': [['English_Haim', 17, 19], ['English_Miriam', 10, 12]], 'Physics': [['Physics_Tzvika', 16, 18]], 'Language': [['Language_Hanita', 14, 16], ['Language_Smadar', 9, 11]], 'Economics': [['Economics_Menachem', 14, 16]], 'Geography': [['Geography_Ilana', 13, 15]], 'History': [['History_Ruth', 12, 14], ['History_Etti', 10, 12]], 'CitizenshipLesson': [['CitizenshipLesson_Tami', 15, 17]], 'Arabic': [['Arabic_Hanita', 18, 20]], 'Chemistry': [['Chemistry_Shelly', 11, 13]]}\n"
     ]
    }
   ],
   "source": [
    "print(same_subjects)"
   ]
  },
  {
   "cell_type": "code",
   "execution_count": 13,
   "metadata": {},
   "outputs": [
    {
     "name": "stdout",
     "output_type": "stream",
     "text": [
      "Restricted license - for non-production use only - expires 2022-01-13\n"
     ]
    }
   ],
   "source": [
    "import time\n",
    "import datetime\n",
    "start = time.time()\n",
    "start = datetime.datetime.now()\n",
    "\n",
    "# Creating the model\n",
    "model = gp.Model(\"Partani\")\n",
    "\n",
    "# Create decision variables for the subjects the student should take\n",
    "subjects_to_assign = model.addVars(subject_and_teacher, name=\"Subjects+Teachers\", vtype=gp.GRB.BINARY)\n"
   ]
  },
  {
   "cell_type": "code",
   "execution_count": 14,
   "metadata": {},
   "outputs": [],
   "source": [
    "\n",
    "# objective\n",
    "# The objective is to minimize (lowest grades and min attendance)\n",
    "model.ModelSense = gp.GRB.MAXIMIZE\n",
    "##########################################################################################################       CHECK!\n",
    "attendance_objective = subjects_to_assign.prod(attendance_at_class)\n",
    "attendance_priority = 1\n",
    "attendance_weight = 0.5\n",
    "\n",
    "student_avg_objective = subjects_to_assign.prod(student_avg)\n",
    "student_avg_priority = 0\n",
    "student_avg_weight = 1\n",
    "\n",
    "model.setObjectiveN(attendance_objective, attendance_priority, weight=attendance_weight)\n",
    "model.setObjectiveN(student_avg_objective, student_avg_priority, weight=student_avg_weight)\n"
   ]
  },
  {
   "cell_type": "code",
   "execution_count": null,
   "metadata": {},
   "outputs": [],
   "source": []
  },
  {
   "cell_type": "code",
   "execution_count": 15,
   "metadata": {},
   "outputs": [
    {
     "data": {
      "text/plain": [
       "'\\n# objective\\n# The objective is to minimize (lowest grades and min attendance)\\nmodel.ModelSense = gp.GRB.MAXIMIZE\\n\\nw1= 1 #weights for grades\\nw2= 0.5 #weights for attendance\\nCost = 0\\nCost += (gp.quicksum(w1*student_avg[s] + w2*attendance_at_class[s] for s in subject_and_teacher))\\n\\nmodel.setObjective(Cost)\\n'"
      ]
     },
     "execution_count": 15,
     "metadata": {},
     "output_type": "execute_result"
    }
   ],
   "source": [
    "'''\n",
    "# objective\n",
    "# The objective is to minimize (lowest grades and min attendance)\n",
    "model.ModelSense = gp.GRB.MAXIMIZE\n",
    "\n",
    "w1= 1 #weights for grades\n",
    "w2= 0.5 #weights for attendance\n",
    "Cost = 0\n",
    "Cost += (gp.quicksum(w1*student_avg[s] + w2*attendance_at_class[s] for s in subject_and_teacher))\n",
    "\n",
    "model.setObjective(Cost)\n",
    "'''"
   ]
  },
  {
   "cell_type": "code",
   "execution_count": null,
   "metadata": {},
   "outputs": [],
   "source": []
  },
  {
   "cell_type": "code",
   "execution_count": 16,
   "metadata": {},
   "outputs": [
    {
     "name": "stdout",
     "output_type": "stream",
     "text": [
      "Gurobi Optimizer version 9.1.1 build v9.1.1rc0 (win64)\n",
      "Thread count: 2 physical cores, 4 logical processors, using up to 4 threads\n",
      "Optimize a model with 29 rows, 19 columns and 46 nonzeros\n",
      "Model fingerprint: 0x1ab82227\n",
      "Variable types: 0 continuous, 19 integer (19 binary)\n",
      "Coefficient statistics:\n",
      "  Matrix range     [1e+00, 1e+00]\n",
      "  Objective range  [9e+00, 9e+01]\n",
      "  Bounds range     [1e+00, 1e+00]\n",
      "  RHS range        [1e+00, 1e+00]\n",
      "\n",
      "---------------------------------------------------------------------------\n",
      "Multi-objectives: starting optimization with 2 objectives (1 combined) ...\n",
      "---------------------------------------------------------------------------\n",
      "---------------------------------------------------------------------------\n",
      "\n",
      "Multi-objectives: optimize objective 1 (weighted) ...\n",
      "---------------------------------------------------------------------------\n",
      "\n",
      "Optimize a model with 29 rows, 19 columns and 46 nonzeros\n",
      "Variable types: 0 continuous, 19 integer (19 binary)\n",
      "Coefficient statistics:\n",
      "  Matrix range     [1e+00, 1e+00]\n",
      "  Objective range  [5e+01, 1e+02]\n",
      "  Bounds range     [1e+00, 1e+00]\n",
      "  RHS range        [1e+00, 1e+00]\n",
      "Found heuristic solution: objective 589.0000000\n",
      "Presolve removed 29 rows and 19 columns\n",
      "Presolve time: 0.00s\n",
      "Presolve: All rows and columns removed\n",
      "\n",
      "Explored 0 nodes (0 simplex iterations) in 0.03 seconds\n",
      "Thread count was 1 (of 4 available processors)\n",
      "\n",
      "Solution count 2: 661 \n",
      "\n",
      "Optimal solution found (tolerance 1.00e-04)\n",
      "Best objective 6.610000000000e+02, best bound 6.610000000000e+02, gap 0.0000%\n",
      "\n",
      "---------------------------------------------------------------------------\n",
      "Multi-objectives: solved in 0.04 seconds, solution count 2\n",
      "\n",
      "Subjects+Teachers[Bible_Roni] 1\n",
      "Subjects+Teachers[Bible_Rachel] 0\n",
      "Subjects+Teachers[Literature_Sharon] 0\n",
      "Subjects+Teachers[Literature_Liora] 1\n",
      "Subjects+Teachers[Math_Yuri] 1\n",
      "Subjects+Teachers[Math_Sarit] 0\n",
      "Subjects+Teachers[Math_Victor] 0\n",
      "Subjects+Teachers[English_Miriam] 0\n",
      "Subjects+Teachers[English_Haim] 0\n",
      "Subjects+Teachers[Physics_Tzvika] 1\n",
      "Subjects+Teachers[Language_Hanita] 0\n",
      "Subjects+Teachers[Language_Smadar] 0\n",
      "Subjects+Teachers[Geography_Ilana] 1\n",
      "Subjects+Teachers[History_Ruth] 0\n",
      "Subjects+Teachers[History_Etti] 0\n",
      "Subjects+Teachers[Chemistry_Shelly] 1\n",
      "Subjects+Teachers[CitizenshipLesson_Tami] 1\n",
      "Subjects+Teachers[Economics_Menachem] 0\n",
      "Subjects+Teachers[Arabic_Hanita] 1\n",
      "Obj: 557\n",
      "0:00:00.382351\n"
     ]
    }
   ],
   "source": [
    "def optimize(subjects_to_assign, same_subjects, bad_classes, collisions):\n",
    "\n",
    "    for course1, course2 in collisions:\n",
    "        model.addConstr(subjects_to_assign.sum(course1) + subjects_to_assign.sum(course2) <= 1)\n",
    "\n",
    "    for course in bad_classes:\n",
    "        model.addConstr(subjects_to_assign.sum(course) == 0)\n",
    "\n",
    "    for course in same_subjects.values():\n",
    "        courses_sum = 0\n",
    "        for course_time in course:\n",
    "            courses_sum += subjects_to_assign.sum(course_time)\n",
    "        model.addConstr(courses_sum <= 1)\n",
    "\n",
    "    model.optimize()\n",
    "\n",
    "    for v in model.getVars():\n",
    "        print('%s %g' % (v.varName, v.x))\n",
    "\n",
    "    print('Obj: %g' % model.objVal)\n",
    "    end = time.time()\n",
    "    end = datetime.datetime.now()\n",
    "    print(end - start)\n",
    "    \n",
    "optimize(subjects_to_assign, same_subjects, bad_classes, collisions)"
   ]
  },
  {
   "cell_type": "code",
   "execution_count": null,
   "metadata": {},
   "outputs": [],
   "source": []
  },
  {
   "cell_type": "code",
   "execution_count": null,
   "metadata": {},
   "outputs": [],
   "source": []
  },
  {
   "cell_type": "code",
   "execution_count": 17,
   "metadata": {},
   "outputs": [
    {
     "data": {
      "text/plain": [
       "'\\n\\n\\n# Model\\nmodel = gp.Model(\"Partani\")\\n\\n# Create decision variables for the foods to buy\\nsub_to_assign = m.addVars(subject_and_teacher, name=\"sub+teach\")\\n\\n# You could use Python looping constructs and m.addVar() to create\\n# these decision variables instead.  The following would be equivalent\\n#\\n# buy = {}\\n# for f in foods:\\n#   buy[f] = m.addVar(name=f)\\n\\n# The objective is to minimize the costs\\nmodel.setObjective(sub_to_assign.prod(cost), GRB.MINIMIZE)\\n\\n# Using looping constructs, the preceding statement would be:\\n#\\n# m.setObjective(sum(buy[f]*cost[f] for f in foods), GRB.MINIMIZE)\\n\\n# Nutrition constraints\\nm.addConstrs((gp.quicksum(nutritionValues[f, c] * buy[f] for f in foods)\\n             == [minNutrition[c], maxNutrition[c]]\\n             for c in categories), \"_\")\\n             \\n             \\n             \\n'"
      ]
     },
     "execution_count": 17,
     "metadata": {},
     "output_type": "execute_result"
    }
   ],
   "source": [
    "'''\n",
    "\n",
    "\n",
    "# Model\n",
    "model = gp.Model(\"Partani\")\n",
    "\n",
    "# Create decision variables for the foods to buy\n",
    "sub_to_assign = m.addVars(subject_and_teacher, name=\"sub+teach\")\n",
    "\n",
    "# You could use Python looping constructs and m.addVar() to create\n",
    "# these decision variables instead.  The following would be equivalent\n",
    "#\n",
    "# buy = {}\n",
    "# for f in foods:\n",
    "#   buy[f] = m.addVar(name=f)\n",
    "\n",
    "# The objective is to minimize the costs\n",
    "model.setObjective(sub_to_assign.prod(cost), GRB.MINIMIZE)\n",
    "\n",
    "# Using looping constructs, the preceding statement would be:\n",
    "#\n",
    "# m.setObjective(sum(buy[f]*cost[f] for f in foods), GRB.MINIMIZE)\n",
    "\n",
    "# Nutrition constraints\n",
    "m.addConstrs((gp.quicksum(nutritionValues[f, c] * buy[f] for f in foods)\n",
    "             == [minNutrition[c], maxNutrition[c]]\n",
    "             for c in categories), \"_\")\n",
    "             \n",
    "             \n",
    "             \n",
    "'''"
   ]
  },
  {
   "cell_type": "code",
   "execution_count": null,
   "metadata": {},
   "outputs": [],
   "source": []
  },
  {
   "cell_type": "code",
   "execution_count": null,
   "metadata": {},
   "outputs": [],
   "source": []
  }
 ],
 "metadata": {
  "kernelspec": {
   "display_name": "Python 3",
   "language": "python",
   "name": "python3"
  },
  "language_info": {
   "codemirror_mode": {
    "name": "ipython",
    "version": 3
   },
   "file_extension": ".py",
   "mimetype": "text/x-python",
   "name": "python",
   "nbconvert_exporter": "python",
   "pygments_lexer": "ipython3",
   "version": "3.7.6"
  }
 },
 "nbformat": 4,
 "nbformat_minor": 4
}
